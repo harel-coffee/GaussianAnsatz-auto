{
 "cells": [
  {
   "cell_type": "code",
   "execution_count": 29,
   "metadata": {},
   "outputs": [],
   "source": [
    "import numpy as np\n",
    "import tensorflow as tf\n",
    "from tensorflow import keras\n",
    "import matplotlib.pyplot as plt\n",
    "# tf.compat.v1.disable_eager_execution()\n",
    "\n",
    "\n",
    "from Architectures.factorizer import Factorizer\n",
    "from Architectures.ifn import mine_loss, joint, marginal, MI\n",
    "from Architectures.dnn import DNN"
   ]
  },
  {
   "cell_type": "markdown",
   "metadata": {},
   "source": []
  },
  {
   "cell_type": "markdown",
   "metadata": {},
   "source": [
    "# Data"
   ]
  },
  {
   "cell_type": "code",
   "execution_count": 30,
   "metadata": {},
   "outputs": [],
   "source": [
    "x = np.expand_dims(np.random.binomial(1, 0.5, 10000), 1).astype(np.float32)\n",
    "y = x"
   ]
  },
  {
   "cell_type": "markdown",
   "metadata": {},
   "source": [
    "# Model"
   ]
  },
  {
   "cell_type": "code",
   "execution_count": 31,
   "metadata": {},
   "outputs": [],
   "source": [
    "input_x = keras.layers.Input(shape=(1,))\n",
    "h = keras.layers.Dense(16, activation='relu')(input_x)\n",
    "h = keras.layers.Dense(16, activation='relu')(h)\n",
    "output_x = keras.layers.Dense(1, activation='sigmoid')(h)\n",
    "x_network_template = keras.Model(inputs=input_x, outputs=output_x)\n",
    "\n",
    "input_y = keras.layers.Input(shape=(1,))\n",
    "h = keras.layers.Dense(16, activation='relu')(input_y)\n",
    "h = keras.layers.Dense(16, activation='relu')(h)\n",
    "output_y = keras.layers.Dense(1, activation='sigmoid')(h)\n",
    "y_network_template = keras.Model(inputs=input_y, outputs=output_y)\n",
    "\n",
    "\n",
    "\n",
    "\n",
    "# x_network_template = DNN(1, [16, 16], 1, output_act = \"sigmoid\")\n",
    "# y_network_template = DNN(1, [16, 16], 1, output_act = \"sigmoid\")\n"
   ]
  },
  {
   "cell_type": "code",
   "execution_count": 32,
   "metadata": {},
   "outputs": [],
   "source": [
    "N = 2\n",
    "f = []\n",
    "opt = tf.keras.optimizers.Adam(clipnorm = 1.0, learning_rate = 1e-3)\n",
    "for i in range(N):\n",
    "    f.append(Factorizer(i+1, x_network_template, y_network_template))\n",
    "    f[i].compile(loss=mine_loss, optimizer=opt, metrics = [MI, joint, marginal], run_eagerly=True,)\n"
   ]
  },
  {
   "cell_type": "markdown",
   "metadata": {},
   "source": [
    "# Fits"
   ]
  },
  {
   "cell_type": "code",
   "execution_count": 46,
   "metadata": {},
   "outputs": [
    {
     "name": "stdout",
     "output_type": "stream",
     "text": [
      "Epoch 1/50\n",
      "20/20 - 1s - loss: 1.4038e-07 - MI: -1.3709e-07 - joint: -1.3703e+00 - marginal: -1.3703e+00\n",
      "Epoch 2/50\n",
      "20/20 - 1s - loss: -2.1553e-08 - MI: 2.3842e-08 - joint: -1.3656e+00 - marginal: -1.3656e+00\n",
      "Epoch 3/50\n",
      "20/20 - 1s - loss: 1.5450e-08 - MI: -1.7881e-08 - joint: -1.3679e+00 - marginal: -1.3679e+00\n",
      "Epoch 4/50\n",
      "20/20 - 1s - loss: 3.0136e-08 - MI: -2.3842e-08 - joint: -1.3713e+00 - marginal: -1.3713e+00\n",
      "Epoch 5/50\n",
      "20/20 - 1s - loss: -1.1635e-07 - MI: 1.1921e-07 - joint: -1.3735e+00 - marginal: -1.3735e+00\n",
      "Epoch 6/50\n",
      "20/20 - 1s - loss: -2.4796e-09 - MI: -5.9605e-09 - joint: -1.3764e+00 - marginal: -1.3764e+00\n",
      "Epoch 7/50\n",
      "20/20 - 1s - loss: 4.5586e-08 - MI: -4.1723e-08 - joint: -1.3781e+00 - marginal: -1.3781e+00\n",
      "Epoch 8/50\n",
      "20/20 - 1s - loss: 4.8828e-08 - MI: -4.7684e-08 - joint: -1.3775e+00 - marginal: -1.3775e+00\n",
      "Epoch 9/50\n",
      "20/20 - 1s - loss: 9.3460e-09 - MI: -1.1921e-08 - joint: -1.3803e+00 - marginal: -1.3803e+00\n",
      "Epoch 10/50\n",
      "20/20 - 1s - loss: -1.1826e-08 - MI: 5.9605e-09 - joint: -1.3805e+00 - marginal: -1.3805e+00\n",
      "Epoch 11/50\n",
      "20/20 - 1s - loss: -9.4795e-08 - MI: 9.5367e-08 - joint: -1.3801e+00 - marginal: -1.3801e+00\n",
      "Epoch 12/50\n",
      "20/20 - 1s - loss: 1.2207e-08 - MI: -1.1921e-08 - joint: -1.3778e+00 - marginal: -1.3778e+00\n",
      "Epoch 13/50\n",
      "20/20 - 1s - loss: 2.4414e-08 - MI: -2.3842e-08 - joint: -1.3762e+00 - marginal: -1.3762e+00\n",
      "Epoch 14/50\n",
      "20/20 - 1s - loss: -1.8311e-08 - MI: 1.7881e-08 - joint: -1.3755e+00 - marginal: -1.3755e+00\n",
      "Epoch 15/50\n",
      "20/20 - 1s - loss: -7.9346e-08 - MI: 7.7486e-08 - joint: -1.3751e+00 - marginal: -1.3751e+00\n",
      "Epoch 16/50\n",
      "20/20 - 1s - loss: 6.1035e-08 - MI: -5.9605e-08 - joint: -1.3756e+00 - marginal: -1.3756e+00\n",
      "Epoch 17/50\n",
      "20/20 - 1s - loss: -1.8311e-08 - MI: 1.7881e-08 - joint: -1.3764e+00 - marginal: -1.3764e+00\n",
      "Epoch 18/50\n",
      "20/20 - 1s - loss: 5.4932e-08 - MI: -5.3644e-08 - joint: -1.3759e+00 - marginal: -1.3759e+00\n",
      "Epoch 19/50\n",
      "20/20 - 1s - loss: 3.8147e-10 - MI: -5.9605e-09 - joint: -1.3754e+00 - marginal: -1.3754e+00\n",
      "Epoch 20/50\n",
      "20/20 - 1s - loss: 4.2725e-08 - MI: -4.1723e-08 - joint: -1.3792e+00 - marginal: -1.3792e+00\n",
      "Epoch 21/50\n",
      "20/20 - 1s - loss: -2.7657e-08 - MI: 2.9802e-08 - joint: -1.3821e+00 - marginal: -1.3821e+00\n",
      "Epoch 22/50\n",
      "20/20 - 1s - loss: -1.1826e-08 - MI: 5.9605e-09 - joint: -1.3865e+00 - marginal: -1.3865e+00\n",
      "Epoch 23/50\n",
      "20/20 - 1s - loss: 1.0052e-07 - MI: -9.5367e-08 - joint: -1.3868e+00 - marginal: -1.3868e+00\n",
      "Epoch 24/50\n",
      "20/20 - 1s - loss: 3.3379e-08 - MI: -2.9802e-08 - joint: -1.3840e+00 - marginal: -1.3840e+00\n",
      "Epoch 25/50\n",
      "20/20 - 1s - loss: -1.1959e-07 - MI: 1.2517e-07 - joint: -1.3871e+00 - marginal: -1.3871e+00\n",
      "Epoch 26/50\n",
      "20/20 - 1s - loss: 3.3379e-08 - MI: -2.9802e-08 - joint: -1.3889e+00 - marginal: -1.3889e+00\n",
      "Epoch 27/50\n",
      "20/20 - 1s - loss: 7.6103e-08 - MI: -7.1526e-08 - joint: -1.3859e+00 - marginal: -1.3859e+00\n",
      "Epoch 28/50\n",
      "20/20 - 1s - loss: 3.6621e-08 - MI: -3.5763e-08 - joint: -1.3800e+00 - marginal: -1.3800e+00\n",
      "Epoch 29/50\n",
      "20/20 - 1s - loss: 1.4362e-07 - MI: -1.4305e-07 - joint: -1.3782e+00 - marginal: -1.3782e+00\n",
      "Epoch 30/50\n",
      "20/20 - 1s - loss: 1.1921e-07 - MI: -1.1921e-07 - joint: -1.3748e+00 - marginal: -1.3748e+00\n",
      "Epoch 31/50\n",
      "20/20 - 1s - loss: 9.4795e-08 - MI: -9.5367e-08 - joint: -1.3692e+00 - marginal: -1.3692e+00\n",
      "Epoch 32/50\n",
      "20/20 - 1s - loss: 3.3379e-08 - MI: -2.9802e-08 - joint: -1.3631e+00 - marginal: -1.3631e+00\n",
      "Epoch 33/50\n",
      "20/20 - 1s - loss: -8.2588e-08 - MI: 8.3447e-08 - joint: -1.3588e+00 - marginal: -1.3588e+00\n",
      "Epoch 34/50\n",
      "20/20 - 1s - loss: -1.8311e-08 - MI: 1.7881e-08 - joint: -1.3579e+00 - marginal: -1.3579e+00\n",
      "Epoch 35/50\n",
      "20/20 - 1s - loss: 1.5583e-07 - MI: -1.5497e-07 - joint: -1.3534e+00 - marginal: -1.3534e+00\n",
      "Epoch 36/50\n",
      "20/20 - 1s - loss: 6.0654e-08 - MI: -5.3644e-08 - joint: -1.3496e+00 - marginal: -1.3496e+00\n",
      "Epoch 37/50\n",
      "20/20 - 1s - loss: 6.3896e-08 - MI: -5.9605e-08 - joint: -1.3489e+00 - marginal: -1.3489e+00\n",
      "Epoch 38/50\n",
      "20/20 - 1s - loss: 3.2425e-09 - MI: -5.9605e-09 - joint: -1.3489e+00 - marginal: -1.3489e+00\n",
      "Epoch 39/50\n",
      "20/20 - 1s - loss: 4.9210e-08 - MI: -5.3644e-08 - joint: -1.3491e+00 - marginal: -1.3491e+00\n",
      "Epoch 40/50\n",
      "20/20 - 1s - loss: -4.2725e-08 - MI: 4.1723e-08 - joint: -1.3491e+00 - marginal: -1.3491e+00\n",
      "Epoch 41/50\n",
      "20/20 - 1s - loss: -4.9210e-08 - MI: 5.3644e-08 - joint: -1.3517e+00 - marginal: -1.3517e+00\n",
      "Epoch 42/50\n",
      "20/20 - 1s - loss: -8.5831e-08 - MI: 8.9407e-08 - joint: -1.3561e+00 - marginal: -1.3561e+00\n",
      "Epoch 43/50\n",
      "20/20 - 1s - loss: -2.7275e-08 - MI: 2.3842e-08 - joint: -1.3588e+00 - marginal: -1.3588e+00\n",
      "Epoch 44/50\n",
      "20/20 - 1s - loss: 5.2071e-08 - MI: -5.3644e-08 - joint: -1.3641e+00 - marginal: -1.3641e+00\n",
      "Epoch 45/50\n",
      "20/20 - 1s - loss: 8.8692e-08 - MI: -8.9407e-08 - joint: -1.3644e+00 - marginal: -1.3644e+00\n",
      "Epoch 46/50\n",
      "20/20 - 1s - loss: 2.4414e-08 - MI: -2.3842e-08 - joint: -1.3612e+00 - marginal: -1.3612e+00\n",
      "Epoch 47/50\n",
      "20/20 - 1s - loss: 2.7275e-08 - MI: -2.3842e-08 - joint: -1.3610e+00 - marginal: -1.3610e+00\n",
      "Epoch 48/50\n",
      "20/20 - 1s - loss: -1.2207e-08 - MI: 1.1921e-08 - joint: -1.3627e+00 - marginal: -1.3627e+00\n",
      "Epoch 49/50\n",
      "20/20 - 1s - loss: 1.3390e-07 - MI: -1.2517e-07 - joint: -1.3642e+00 - marginal: -1.3642e+00\n",
      "Epoch 50/50\n",
      "20/20 - 1s - loss: 1.2493e-07 - MI: -1.1921e-07 - joint: -1.3619e+00 - marginal: -1.3619e+00\n",
      "Epoch 1/50\n",
      "20/20 - 1s - loss: -6.8297e-01 - MI: 0.6800 - joint: -1.4815e+00 - marginal: -2.1615e+00\n",
      "Epoch 2/50\n",
      "20/20 - 1s - loss: -6.9529e-01 - MI: 0.6955 - joint: -1.4997e+00 - marginal: -2.1952e+00\n",
      "Epoch 3/50\n",
      "20/20 - 1s - loss: -6.9929e-01 - MI: 0.6968 - joint: -1.4820e+00 - marginal: -2.1789e+00\n",
      "Epoch 4/50\n",
      "20/20 - 1s - loss: -6.8546e-01 - MI: 0.6863 - joint: -1.4869e+00 - marginal: -2.1733e+00\n",
      "Epoch 5/50\n",
      "20/20 - 1s - loss: -7.1198e-01 - MI: 0.7080 - joint: -1.4884e+00 - marginal: -2.1964e+00\n",
      "Epoch 6/50\n",
      "20/20 - 1s - loss: -6.9347e-01 - MI: 0.6902 - joint: -1.4859e+00 - marginal: -2.1761e+00\n",
      "Epoch 7/50\n",
      "20/20 - 1s - loss: -6.8250e-01 - MI: 0.6814 - joint: -1.4890e+00 - marginal: -2.1704e+00\n",
      "Epoch 8/50\n",
      "20/20 - 1s - loss: -6.7567e-01 - MI: 0.6771 - joint: -1.4888e+00 - marginal: -2.1659e+00\n",
      "Epoch 9/50\n",
      "20/20 - 1s - loss: -6.8327e-01 - MI: 0.6846 - joint: -1.4946e+00 - marginal: -2.1791e+00\n",
      "Epoch 10/50\n",
      "20/20 - 1s - loss: -7.0340e-01 - MI: 0.7046 - joint: -1.4885e+00 - marginal: -2.1931e+00\n",
      "Epoch 11/50\n",
      "20/20 - 1s - loss: -6.9239e-01 - MI: 0.6921 - joint: -1.4880e+00 - marginal: -2.1801e+00\n",
      "Epoch 12/50\n",
      "20/20 - 1s - loss: -6.9971e-01 - MI: 0.7025 - joint: -1.4892e+00 - marginal: -2.1916e+00\n",
      "Epoch 13/50\n",
      "20/20 - 1s - loss: -6.8134e-01 - MI: 0.6784 - joint: -1.4902e+00 - marginal: -2.1686e+00\n",
      "Epoch 14/50\n",
      "20/20 - 1s - loss: -6.8944e-01 - MI: 0.6882 - joint: -1.4922e+00 - marginal: -2.1804e+00\n",
      "Epoch 15/50\n",
      "20/20 - 1s - loss: -7.0662e-01 - MI: 0.7077 - joint: -1.4860e+00 - marginal: -2.1937e+00\n",
      "Epoch 16/50\n",
      "20/20 - 1s - loss: -6.9851e-01 - MI: 0.7005 - joint: -1.4818e+00 - marginal: -2.1824e+00\n",
      "Epoch 17/50\n",
      "20/20 - 1s - loss: -6.8273e-01 - MI: 0.6844 - joint: -1.4875e+00 - marginal: -2.1719e+00\n",
      "Epoch 18/50\n",
      "20/20 - 1s - loss: -6.9870e-01 - MI: 0.6982 - joint: -1.4841e+00 - marginal: -2.1823e+00\n",
      "Epoch 19/50\n",
      "20/20 - 1s - loss: -6.8141e-01 - MI: 0.6814 - joint: -1.4955e+00 - marginal: -2.1768e+00\n",
      "Epoch 20/50\n",
      "20/20 - 1s - loss: -6.9845e-01 - MI: 0.6944 - joint: -1.4802e+00 - marginal: -2.1747e+00\n",
      "Epoch 21/50\n",
      "20/20 - 1s - loss: -6.9071e-01 - MI: 0.6901 - joint: -1.4826e+00 - marginal: -2.1727e+00\n",
      "Epoch 22/50\n",
      "20/20 - 1s - loss: -6.9087e-01 - MI: 0.6913 - joint: -1.4812e+00 - marginal: -2.1725e+00\n",
      "Epoch 23/50\n",
      "20/20 - 1s - loss: -6.7966e-01 - MI: 0.6796 - joint: -1.4808e+00 - marginal: -2.1604e+00\n",
      "Epoch 24/50\n",
      "20/20 - 1s - loss: -6.9961e-01 - MI: 0.6985 - joint: -1.4853e+00 - marginal: -2.1837e+00\n",
      "Epoch 25/50\n",
      "20/20 - 1s - loss: -6.9338e-01 - MI: 0.6944 - joint: -1.4752e+00 - marginal: -2.1697e+00\n",
      "Epoch 26/50\n",
      "20/20 - 1s - loss: -6.9757e-01 - MI: 0.6996 - joint: -1.4914e+00 - marginal: -2.1910e+00\n",
      "Epoch 27/50\n",
      "20/20 - 1s - loss: -7.0727e-01 - MI: 0.7063 - joint: -1.4795e+00 - marginal: -2.1858e+00\n",
      "Epoch 28/50\n",
      "20/20 - 1s - loss: -6.8684e-01 - MI: 0.6850 - joint: -1.4820e+00 - marginal: -2.1670e+00\n",
      "Epoch 29/50\n",
      "20/20 - 1s - loss: -7.0683e-01 - MI: 0.7086 - joint: -1.4758e+00 - marginal: -2.1845e+00\n",
      "Epoch 30/50\n",
      "20/20 - 1s - loss: -6.8870e-01 - MI: 0.6902 - joint: -1.4845e+00 - marginal: -2.1747e+00\n",
      "Epoch 31/50\n",
      "20/20 - 1s - loss: -6.8994e-01 - MI: 0.6884 - joint: -1.4730e+00 - marginal: -2.1614e+00\n",
      "Epoch 32/50\n",
      "20/20 - 1s - loss: -6.9809e-01 - MI: 0.6980 - joint: -1.4709e+00 - marginal: -2.1689e+00\n",
      "Epoch 33/50\n",
      "20/20 - 1s - loss: -6.9750e-01 - MI: 0.6957 - joint: -1.4798e+00 - marginal: -2.1755e+00\n",
      "Epoch 34/50\n",
      "20/20 - 1s - loss: -6.9845e-01 - MI: 0.6997 - joint: -1.4785e+00 - marginal: -2.1782e+00\n",
      "Epoch 35/50\n",
      "20/20 - 1s - loss: -7.1278e-01 - MI: 0.7106 - joint: -1.4644e+00 - marginal: -2.1751e+00\n",
      "Epoch 36/50\n",
      "20/20 - 1s - loss: -6.8623e-01 - MI: 0.6864 - joint: -1.4711e+00 - marginal: -2.1574e+00\n",
      "Epoch 37/50\n",
      "20/20 - 1s - loss: -7.1002e-01 - MI: 0.7103 - joint: -1.4684e+00 - marginal: -2.1788e+00\n",
      "Epoch 38/50\n",
      "20/20 - 1s - loss: -6.9611e-01 - MI: 0.6947 - joint: -1.4706e+00 - marginal: -2.1653e+00\n",
      "Epoch 39/50\n",
      "20/20 - 1s - loss: -7.0286e-01 - MI: 0.7037 - joint: -1.4692e+00 - marginal: -2.1729e+00\n",
      "Epoch 40/50\n",
      "20/20 - 1s - loss: -6.8143e-01 - MI: 0.6828 - joint: -1.4703e+00 - marginal: -2.1531e+00\n",
      "Epoch 41/50\n",
      "20/20 - 1s - loss: -7.0330e-01 - MI: 0.7020 - joint: -1.4723e+00 - marginal: -2.1743e+00\n",
      "Epoch 42/50\n",
      "20/20 - 1s - loss: -6.9134e-01 - MI: 0.6910 - joint: -1.4661e+00 - marginal: -2.1571e+00\n",
      "Epoch 43/50\n",
      "20/20 - 1s - loss: -6.9572e-01 - MI: 0.6946 - joint: -1.4691e+00 - marginal: -2.1637e+00\n",
      "Epoch 44/50\n",
      "20/20 - 1s - loss: -6.9619e-01 - MI: 0.6968 - joint: -1.4728e+00 - marginal: -2.1696e+00\n",
      "Epoch 45/50\n",
      "20/20 - 1s - loss: -6.8583e-01 - MI: 0.6843 - joint: -1.4715e+00 - marginal: -2.1558e+00\n",
      "Epoch 46/50\n",
      "20/20 - 1s - loss: -6.9271e-01 - MI: 0.6938 - joint: -1.4626e+00 - marginal: -2.1564e+00\n",
      "Epoch 47/50\n",
      "20/20 - 1s - loss: -6.9144e-01 - MI: 0.6908 - joint: -1.4720e+00 - marginal: -2.1629e+00\n",
      "Epoch 48/50\n",
      "20/20 - 1s - loss: -6.9754e-01 - MI: 0.6951 - joint: -1.4635e+00 - marginal: -2.1587e+00\n",
      "Epoch 49/50\n",
      "20/20 - 1s - loss: -7.0299e-01 - MI: 0.7042 - joint: -1.4715e+00 - marginal: -2.1757e+00\n",
      "Epoch 50/50\n",
      "20/20 - 1s - loss: -6.8980e-01 - MI: 0.6879 - joint: -1.4690e+00 - marginal: -2.1569e+00\n"
     ]
    },
    {
     "data": {
      "text/plain": [
       "<matplotlib.legend.Legend at 0x14e6e72e0>"
      ]
     },
     "execution_count": 46,
     "metadata": {},
     "output_type": "execute_result"
    },
    {
     "data": {
      "image/png": "[encoded data removed]",
      "text/plain": [
       "<Figure size 432x288 with 1 Axes>"
      ]
     },
     "metadata": {
      "needs_background": "light"
     },
     "output_type": "display_data"
    }
   ],
   "source": [
    "epochs = 50\n",
    "batch_size = 512\n",
    "\n",
    "for i in range(N):\n",
    "    history = f[i].fit([x, y], batch_size= batch_size, epochs = epochs, shuffle=True, verbose= 2)\n",
    "    plt.plot(history.history[\"MI\"], label = \"N = %d\" % (i+1))\n",
    "\n",
    "plt.plot(np.log(2.0) * np.ones(epochs), linestyle = \"--\", label = \"Exact\")\n",
    "plt.xlabel(\"Epochs\")\n",
    "plt.ylabel(\"I(X;Y)\")\n",
    "plt.grid()\n",
    "plt.legend()"
   ]
  },
  {
   "cell_type": "code",
   "execution_count": 47,
   "metadata": {},
   "outputs": [
    {
     "name": "stdout",
     "output_type": "stream",
     "text": [
      "<tf.Variable 'Variable:0' shape=(1,) dtype=float32, numpy=array([0.9997988], dtype=float32)>\n",
      "<tf.Variable 'Variable:0' shape=(2,) dtype=float32, numpy=array([0.7643519 , 0.23390715], dtype=float32)>\n"
     ]
    },
    {
     "data": {
      "image/png": "[encoded data removed]",
      "text/plain": [
       "<Figure size 432x288 with 1 Axes>"
      ]
     },
     "metadata": {
      "needs_background": "light"
     },
     "output_type": "display_data"
    },
    {
     "data": {
      "image/png": "[encoded data removed]",
      "text/plain": [
       "<Figure size 432x288 with 1 Axes>"
      ]
     },
     "metadata": {
      "needs_background": "light"
     },
     "output_type": "display_data"
    }
   ],
   "source": [
    "for i in range(N):\n",
    "    print(f[i].f_weights)\n",
    "\n",
    "f2 = f[1]\n",
    "xs = np.expand_dims((0.0, 1.0),1)\n",
    "ys = np.expand_dims((0.0, 1.0),1)\n",
    "\n",
    "plt.plot(f2.x_networks[0](xs).numpy(), alpha = 0.25, label = \"w1(x)\")\n",
    "plt.plot(f2.x_networks[1](xs).numpy(), alpha = 0.25, label = \"w2(x)\")\n",
    "plt.legend()\n",
    "plt.show()\n",
    "plt.close()\n",
    "\n",
    "plt.plot(f2.y_networks[0](xs).numpy(), alpha = 0.25, label = \" w'1(y)\")\n",
    "plt.plot(f2.y_networks[1](xs).numpy(), alpha = 0.25, label = \"w'2(y)\")\n",
    "plt.legend()\n",
    "plt.show()\n",
    "plt.close()\n",
    "\n",
    "xs = np.expand_dims((0.0, 0.0, 1.0, 1.0),1)\n",
    "ys = np.expand_dims((0.0, 1.0, 0.0, 1.0),1)\n",
    "print()\n",
    "\n"
   ]
  },
  {
   "cell_type": "code",
   "execution_count": null,
   "metadata": {},
   "outputs": [],
   "source": []
  },
  {
   "cell_type": "code",
   "execution_count": null,
   "metadata": {},
   "outputs": [],
   "source": []
  }
 ],
 "metadata": {
  "interpreter": {
   "hash": "7e344144e0551add7908bc91b690df15aed147e41240398f46192e06de7104a5"
  },
  "kernelspec": {
   "display_name": "Python 3.9.5 ('base')",
   "language": "python",
   "name": "python3"
  },
  "language_info": {
   "codemirror_mode": {
    "name": "ipython",
    "version": 3
   },
   "file_extension": ".py",
   "mimetype": "text/x-python",
   "name": "python",
   "nbconvert_exporter": "python",
   "pygments_lexer": "ipython3",
   "version": "3.9.5"
  },
  "orig_nbformat": 4
 },
 "nbformat": 4,
 "nbformat_minor": 2
}
