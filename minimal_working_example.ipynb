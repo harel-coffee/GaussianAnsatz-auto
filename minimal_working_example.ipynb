{
 "cells": [
  {
   "cell_type": "code",
   "execution_count": null,
   "metadata": {},
   "outputs": [],
   "source": [
    "import numpy as np\n",
    "from matplotlib import pyplot as plt\n",
    "\n",
    "from GaussianAnsatz.dnn import DNN\n",
    "from GaussianAnsatz.utils import build_gaussianAnsatz_DNN\n",
    "from GaussianAnsatz.utils import plot_MI"
   ]
  },
  {
   "cell_type": "code",
   "execution_count": null,
   "metadata": {},
   "outputs": [],
   "source": [
    "# #################################\n",
    "# ########## PARAMETERS ###########\n",
    "# #################################\n",
    "\n",
    "x_dim = 1\n",
    "y_dim = 1\n",
    "\n",
    "epochs = 50\n",
    "pre_train_epochs = 5\n",
    "batch_size = 2048\n",
    "pre_train_batch_size = 1024\n",
    "\n",
    "\n",
    "# #############################\n",
    "# ########## DATASET ##########\n",
    "# #############################\n",
    "\n",
    "N = 100000\n",
    "scale = 5.0\n",
    "\n",
    "# Gaussian Noise Dataset\n",
    "X = np.random.uniform(low = -scale, high = scale, size = (N, x_dim)) / scale\n",
    "Y = X + np.random.normal(scale = 1, size = (N, x_dim)) / scale"
   ]
  },
  {
   "cell_type": "code",
   "execution_count": null,
   "metadata": {},
   "outputs": [],
   "source": [
    "# ############################\n",
    "# ########## MODELS ##########\n",
    "# ############################\n",
    "\n",
    "# # Uncomment this for building a DNN Gaussian Ansatz with 4 seperate networks rather than 4 identical networks!\n",
    "# # Need to initialize T(x,y) = a(x) + (y-b(x))d(x) + 1/2 (y-b(x))^T c(x,y) (y-b(x))\n",
    "# model_A = DNN(x_dim, [32, 32, 32], 1)\n",
    "# model_B = DNN(x_dim, [32, 32, 32], y_dim)\n",
    "# model_C = DNN([x_dim, y_dim], [32, 32, 32], [y_dim, y_dim], symmetrize=False)\n",
    "# model_D = DNN(x_dim, [32, 32, 32], y_dim, l2_regs= 0.1)\n",
    "# ifn = GaussianAnsatz(model_A, model_B, model_C, model_D, d_multiplier= 0, d_l1_reg=0.1, y_dim=y_dim)\n",
    "\n",
    "\n",
    "# Initialize a Gaussian Ansatz using 4 ordinary DNNs\n",
    "gA = build_gaussianAnsatz_DNN(x_dim, y_dim, [32,32,32], opt = \"adam\", d_l1_reg=0.1)\n",
    "\n",
    "\n",
    "# Compile and fit\n",
    "gA.pre_train([X,Y], epochs = pre_train_epochs, batch_size= pre_train_batch_size, verbose = True)\n",
    "history = gA.fit([X, Y], batch_size= batch_size, epochs = epochs, shuffle=True, verbose= 2)\n"
   ]
  },
  {
   "cell_type": "code",
   "execution_count": null,
   "metadata": {},
   "outputs": [],
   "source": [
    "\n",
    "# Get predictions on a sample test set\n",
    "x_test = np.array([-5.0, -4.0, -3.0, -2.0, -1.0, 0.0, 1.0, 2.0, 3.0, 4.0, 5.0]).reshape((11, 1)) \n",
    "y_pred, sigmas = gA.eval(x_test / scale) \n",
    "y_pred *= scale\n",
    "sigmas *= scale\n",
    "\n",
    "\n",
    "for i,j,k in zip(x_test, y_pred, sigmas):\n",
    "    print(\"For x = %.3f, infer y = %.3f +- %.3f\" % (i, j, k))\n",
    "\n",
    "\n",
    "# ##### Plot the likelihood #####\n",
    "\n",
    "# Plotting meshes\n",
    "x = np.linspace(-5, 5, 40)\n",
    "y = np.linspace(-5, 5, 40)\n",
    "\n",
    "X, Y = np.meshgrid(x, y)\n",
    "Z = scale * np.reshape(gA([np.ravel(X).reshape(-1,1) / scale, np.ravel(Y).reshape(-1,1) / scale]).numpy(), X.shape)\n",
    "\n",
    "\n",
    "fig, ax = plt.subplots(figsize = (8,8))\n",
    "\n",
    "contours = plt.contour(X, Y, Z, 8, colors='black')\n",
    "plt.clabel(contours, inline=True, fontsize=8)\n",
    "plt.contourf(X, Y, Z, 50, cmap = 'RdGy_r', origin='lower',  alpha=0.5)\n",
    "plt.xlabel(\"Measured X\")\n",
    "plt.ylabel(\"Inferred Z\")\n",
    "plt.title(\"Maximum Likelihood Task\")\n",
    "cbar = plt.colorbar()\n",
    "cbar.set_label(\"T(x,z)\")\n",
    "\n",
    "print(x_test.shape, y_pred.shape, sigmas.shape)\n",
    "plt.errorbar(x_test[:,0], y_pred[:,0], yerr=sigmas, fmt='o', color='red',\n",
    "             ecolor='black', elinewidth=3, capsize=5)\n",
    "\n",
    "plt.xlim(-5, 5)\n",
    "plt.ylim(-5, 5)\n",
    "plt.show()\n",
    "\n",
    "\n",
    "\n",
    "# Plot MI History\n",
    "fig, ax = plt.subplots(figsize = (8,8))\n",
    "plot_MI(epochs, history.history[\"MI\"])\n",
    "\n",
    "\n",
    "\n"
   ]
  },
  {
   "cell_type": "code",
   "execution_count": null,
   "metadata": {},
   "outputs": [],
   "source": []
  }
 ],
 "metadata": {
  "kernelspec": {
   "display_name": "Python 3.8.12 ('tf2')",
   "language": "python",
   "name": "python3"
  },
  "language_info": {
   "codemirror_mode": {
    "name": "ipython",
    "version": 3
   },
   "file_extension": ".py",
   "mimetype": "text/x-python",
   "name": "python",
   "nbconvert_exporter": "python",
   "pygments_lexer": "ipython3",
   "version": "3.8.12"
  },
  "orig_nbformat": 4,
  "vscode": {
   "interpreter": {
    "hash": "a8b6e25b11fedee943047b9166f1422d94f8391b01c9651b02913b5d5c11c6da"
   }
  }
 },
 "nbformat": 4,
 "nbformat_minor": 2
}
