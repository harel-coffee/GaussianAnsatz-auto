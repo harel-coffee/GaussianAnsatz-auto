{
 "cells": [
  {
   "cell_type": "code",
   "execution_count": null,
   "metadata": {},
   "outputs": [],
   "source": [
    "import keras\n",
    "from keras.models import Model\n",
    "from keras.layers import Dense, Dropout, Input\n",
    "import keras.backend as K\n",
    "import tensorflow as tf\n",
    "\n",
    "import numpy as np\n",
    "\n",
    "from matplotlib import pyplot as plt\n",
    "plt.style.use('seaborn-white')\n",
    "from matplotlib import cm\n",
    "\n",
    "from utils import iter_or_rep\n",
    "from GaussianAnsatz.dnn import DNN\n",
    "from GaussianAnsatz.ifn import IFN, GaussianAnsatz\n",
    "from GaussianAnsatz.utils import build_gaussianAnsatz_DNN"
   ]
  }
 ],
 "metadata": {
  "kernelspec": {
   "display_name": "Python 3.8.12 ('tf2')",
   "language": "python",
   "name": "python3"
  },
  "language_info": {
   "name": "python",
   "version": "3.8.12"
  },
  "orig_nbformat": 4,
  "vscode": {
   "interpreter": {
    "hash": "a8b6e25b11fedee943047b9166f1422d94f8391b01c9651b02913b5d5c11c6da"
   }
  }
 },
 "nbformat": 4,
 "nbformat_minor": 2
}
